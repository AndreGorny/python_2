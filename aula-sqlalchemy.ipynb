{
 "cells": [
  {
   "cell_type": "markdown",
   "metadata": {},
   "source": [
    "<center><img src=\"https://drive.google.com/uc?export=view&id=1TioFdYzIbmRKAWdoXoSFld50Vne1pQ60\" /></center>"
   ]
  },
  {
   "cell_type": "markdown",
   "metadata": {},
   "source": [
    "<h1 style=\"color:#6495ED;\">Python - SQLAlchemy</h1>"
   ]
  },
  {
   "cell_type": "markdown",
   "metadata": {},
   "source": [
    "<p>SQLAlchemy é uma biblioteca de mapeamento objeto-relacional para Python. <br />\n",
    "Neste é possível utilizar bancos de dados com Python, tanto através da definição de classes quanto através de código SQL.</p>\n"
   ]
  },
  {
   "cell_type": "markdown",
   "metadata": {},
   "source": [
    "<p><span style=\"color: crimson;\">Observação:</span> Nos exemplos deste notebook será utilizado o SQLite e a tabela abaixo descrita. Para visualização do banco de dados será utilizado o SQLiteStudio.</p>"
   ]
  },
  {
   "cell_type": "markdown",
   "metadata": {},
   "source": [
    "<pre>\n",
    "CREATE TABLE carro(\n",
    "    cd_carro INTEGER PRIMARY KEY AUTOINCREMENT,\n",
    "    nm_marca VARCHAR(50),\n",
    "    nr_placa VARCHAR(10),\n",
    "    nm_cor VARCHAR(10)\n",
    ");\n",
    "</pre>"
   ]
  },
  {
   "cell_type": "markdown",
   "metadata": {},
   "source": [
    "<p>Antes de iniciar, é necessário instalar o SQLAlchemy:</p>"
   ]
  },
  {
   "cell_type": "code",
   "execution_count": null,
   "metadata": {},
   "outputs": [],
   "source": [
    "%pip install sqlalchemy"
   ]
  },
  {
   "cell_type": "markdown",
   "metadata": {},
   "source": [
    "<h3 style=\"color:#6495ED;\">Criação da engine:</h3>"
   ]
  },
  {
   "cell_type": "markdown",
   "metadata": {},
   "source": [
    "<p>Para conectar a um banco de dados suportado pelo SQLAlchemy é necessário instanciar um objeto da classe <span style=\"color:#3DCAB5;\">Engine</span> utilizando a função <span style=\"color:khaki;\">create_engine</span><br />\n",
    "A string de conexão que é passada como parâmetro para o <span style=\"color:khaki;\">create_engine</span> muda de acordo com o banco de dados alvo.</p>"
   ]
  },
  {
   "cell_type": "code",
   "execution_count": 1,
   "metadata": {},
   "outputs": [
    {
     "data": {
      "text/plain": [
       "Engine(sqlite:///aula.db)"
      ]
     },
     "execution_count": 1,
     "metadata": {},
     "output_type": "execute_result"
    }
   ],
   "source": [
    "from sqlalchemy import create_engine\n",
    "\n",
    "DATABASE_NAME = \"aula.db\"\n",
    "\n",
    "engine = create_engine(f\"sqlite:///{DATABASE_NAME}\")\n",
    "engine"
   ]
  },
  {
   "cell_type": "markdown",
   "metadata": {},
   "source": [
    "<h3 style=\"color:#6495ED;\">Criação da sessão:</h3>"
   ]
  },
  {
   "cell_type": "markdown",
   "metadata": {},
   "source": [
    "<p>Quando criada uma engine, ela pode utilizada para a criação de uma <span style=\"color:#3DCAB5;\">Sessão</span> utilizando a função <span style=\"color:khaki;\">sessionmaker</span>.<br />\n",
    "Comando SQL devem ser executados a partir de uma sessão.</p>"
   ]
  },
  {
   "cell_type": "code",
   "execution_count": 6,
   "metadata": {},
   "outputs": [
    {
     "data": {
      "text/plain": [
       "<sqlalchemy.orm.session.Session at 0x7fea385c9ed0>"
      ]
     },
     "execution_count": 6,
     "metadata": {},
     "output_type": "execute_result"
    }
   ],
   "source": [
    "from sqlalchemy.orm import sessionmaker\n",
    "\n",
    "Session = sessionmaker(bind=engine)\n",
    "session = Session() # Cria uma nova sessão!\n",
    "session.execute\n",
    "session"
   ]
  },
  {
   "cell_type": "markdown",
   "metadata": {},
   "source": [
    "<h3 style=\"color:#6495ED;\">Executando comandos SQL:</h3>"
   ]
  },
  {
   "cell_type": "markdown",
   "metadata": {},
   "source": [
    "<p>Utiliza-se o método <span style=\"color:khaki;\">execute</span> para executar comandos SQL no banco de dados.<br />\n",
    "Sessões funcionam no formato transaction, de forma que é necessário <span style=\"color:khaki;\">commit</span> para executar comandos DML no BD.</p>"
   ]
  },
  {
   "cell_type": "code",
   "execution_count": 7,
   "metadata": {},
   "outputs": [
    {
     "ename": "OperationalError",
     "evalue": "(sqlite3.OperationalError) table carro already exists\n[SQL: CREATE TABLE carro(\n    cd_carro INTEGER PRIMARY KEY AUTOINCREMENT,\n    nm_marca VARCHAR(50),\n    nr_placa VARCHAR(10),\n    nm_cor VARCHAR(10)\n    );]\n(Background on this error at: https://sqlalche.me/e/14/e3q8)",
     "output_type": "error",
     "traceback": [
      "\u001b[0;31m---------------------------------------------------------------------------\u001b[0m",
      "\u001b[0;31mOperationalError\u001b[0m                          Traceback (most recent call last)",
      "File \u001b[0;32m~/.local/lib/python3.10/site-packages/sqlalchemy/engine/base.py:1900\u001b[0m, in \u001b[0;36mConnection._execute_context\u001b[0;34m(self, dialect, constructor, statement, parameters, execution_options, *args, **kw)\u001b[0m\n\u001b[1;32m   1899\u001b[0m     \u001b[39mif\u001b[39;00m \u001b[39mnot\u001b[39;00m evt_handled:\n\u001b[0;32m-> 1900\u001b[0m         \u001b[39mself\u001b[39;49m\u001b[39m.\u001b[39;49mdialect\u001b[39m.\u001b[39;49mdo_execute(\n\u001b[1;32m   1901\u001b[0m             cursor, statement, parameters, context\n\u001b[1;32m   1902\u001b[0m         )\n\u001b[1;32m   1904\u001b[0m \u001b[39mif\u001b[39;00m \u001b[39mself\u001b[39m\u001b[39m.\u001b[39m_has_events \u001b[39mor\u001b[39;00m \u001b[39mself\u001b[39m\u001b[39m.\u001b[39mengine\u001b[39m.\u001b[39m_has_events:\n",
      "File \u001b[0;32m~/.local/lib/python3.10/site-packages/sqlalchemy/engine/default.py:736\u001b[0m, in \u001b[0;36mDefaultDialect.do_execute\u001b[0;34m(self, cursor, statement, parameters, context)\u001b[0m\n\u001b[1;32m    735\u001b[0m \u001b[39mdef\u001b[39;00m \u001b[39mdo_execute\u001b[39m(\u001b[39mself\u001b[39m, cursor, statement, parameters, context\u001b[39m=\u001b[39m\u001b[39mNone\u001b[39;00m):\n\u001b[0;32m--> 736\u001b[0m     cursor\u001b[39m.\u001b[39;49mexecute(statement, parameters)\n",
      "\u001b[0;31mOperationalError\u001b[0m: table carro already exists",
      "\nThe above exception was the direct cause of the following exception:\n",
      "\u001b[0;31mOperationalError\u001b[0m                          Traceback (most recent call last)",
      "Cell \u001b[0;32mIn[7], line 1\u001b[0m\n\u001b[0;32m----> 1\u001b[0m session\u001b[39m.\u001b[39;49mexecute(\u001b[39m\"\"\"\u001b[39;49m\u001b[39mCREATE TABLE carro(\u001b[39;49m\n\u001b[1;32m      2\u001b[0m \u001b[39m    cd_carro INTEGER PRIMARY KEY AUTOINCREMENT,\u001b[39;49m\n\u001b[1;32m      3\u001b[0m \u001b[39m    nm_marca VARCHAR(50),\u001b[39;49m\n\u001b[1;32m      4\u001b[0m \u001b[39m    nr_placa VARCHAR(10),\u001b[39;49m\n\u001b[1;32m      5\u001b[0m \u001b[39m    nm_cor VARCHAR(10)\u001b[39;49m\n\u001b[1;32m      6\u001b[0m \u001b[39m    );\u001b[39;49m\u001b[39m\"\"\"\u001b[39;49m)\n",
      "File \u001b[0;32m~/.local/lib/python3.10/site-packages/sqlalchemy/orm/session.py:1714\u001b[0m, in \u001b[0;36mSession.execute\u001b[0;34m(self, statement, params, execution_options, bind_arguments, _parent_execute_state, _add_event, **kw)\u001b[0m\n\u001b[1;32m   1712\u001b[0m \u001b[39melse\u001b[39;00m:\n\u001b[1;32m   1713\u001b[0m     conn \u001b[39m=\u001b[39m \u001b[39mself\u001b[39m\u001b[39m.\u001b[39m_connection_for_bind(bind)\n\u001b[0;32m-> 1714\u001b[0m result \u001b[39m=\u001b[39m conn\u001b[39m.\u001b[39;49m_execute_20(statement, params \u001b[39mor\u001b[39;49;00m {}, execution_options)\n\u001b[1;32m   1716\u001b[0m \u001b[39mif\u001b[39;00m compile_state_cls:\n\u001b[1;32m   1717\u001b[0m     result \u001b[39m=\u001b[39m compile_state_cls\u001b[39m.\u001b[39morm_setup_cursor_result(\n\u001b[1;32m   1718\u001b[0m         \u001b[39mself\u001b[39m,\n\u001b[1;32m   1719\u001b[0m         statement,\n\u001b[0;32m   (...)\u001b[0m\n\u001b[1;32m   1723\u001b[0m         result,\n\u001b[1;32m   1724\u001b[0m     )\n",
      "File \u001b[0;32m~/.local/lib/python3.10/site-packages/sqlalchemy/engine/base.py:1705\u001b[0m, in \u001b[0;36mConnection._execute_20\u001b[0;34m(self, statement, parameters, execution_options)\u001b[0m\n\u001b[1;32m   1701\u001b[0m     util\u001b[39m.\u001b[39mraise_(\n\u001b[1;32m   1702\u001b[0m         exc\u001b[39m.\u001b[39mObjectNotExecutableError(statement), replace_context\u001b[39m=\u001b[39merr\n\u001b[1;32m   1703\u001b[0m     )\n\u001b[1;32m   1704\u001b[0m \u001b[39melse\u001b[39;00m:\n\u001b[0;32m-> 1705\u001b[0m     \u001b[39mreturn\u001b[39;00m meth(\u001b[39mself\u001b[39;49m, args_10style, kwargs_10style, execution_options)\n",
      "File \u001b[0;32m~/.local/lib/python3.10/site-packages/sqlalchemy/sql/elements.py:334\u001b[0m, in \u001b[0;36mClauseElement._execute_on_connection\u001b[0;34m(self, connection, multiparams, params, execution_options, _force)\u001b[0m\n\u001b[1;32m    330\u001b[0m \u001b[39mdef\u001b[39;00m \u001b[39m_execute_on_connection\u001b[39m(\n\u001b[1;32m    331\u001b[0m     \u001b[39mself\u001b[39m, connection, multiparams, params, execution_options, _force\u001b[39m=\u001b[39m\u001b[39mFalse\u001b[39;00m\n\u001b[1;32m    332\u001b[0m ):\n\u001b[1;32m    333\u001b[0m     \u001b[39mif\u001b[39;00m _force \u001b[39mor\u001b[39;00m \u001b[39mself\u001b[39m\u001b[39m.\u001b[39msupports_execution:\n\u001b[0;32m--> 334\u001b[0m         \u001b[39mreturn\u001b[39;00m connection\u001b[39m.\u001b[39;49m_execute_clauseelement(\n\u001b[1;32m    335\u001b[0m             \u001b[39mself\u001b[39;49m, multiparams, params, execution_options\n\u001b[1;32m    336\u001b[0m         )\n\u001b[1;32m    337\u001b[0m     \u001b[39melse\u001b[39;00m:\n\u001b[1;32m    338\u001b[0m         \u001b[39mraise\u001b[39;00m exc\u001b[39m.\u001b[39mObjectNotExecutableError(\u001b[39mself\u001b[39m)\n",
      "File \u001b[0;32m~/.local/lib/python3.10/site-packages/sqlalchemy/engine/base.py:1572\u001b[0m, in \u001b[0;36mConnection._execute_clauseelement\u001b[0;34m(self, elem, multiparams, params, execution_options)\u001b[0m\n\u001b[1;32m   1560\u001b[0m compiled_cache \u001b[39m=\u001b[39m execution_options\u001b[39m.\u001b[39mget(\n\u001b[1;32m   1561\u001b[0m     \u001b[39m\"\u001b[39m\u001b[39mcompiled_cache\u001b[39m\u001b[39m\"\u001b[39m, \u001b[39mself\u001b[39m\u001b[39m.\u001b[39mengine\u001b[39m.\u001b[39m_compiled_cache\n\u001b[1;32m   1562\u001b[0m )\n\u001b[1;32m   1564\u001b[0m compiled_sql, extracted_params, cache_hit \u001b[39m=\u001b[39m elem\u001b[39m.\u001b[39m_compile_w_cache(\n\u001b[1;32m   1565\u001b[0m     dialect\u001b[39m=\u001b[39mdialect,\n\u001b[1;32m   1566\u001b[0m     compiled_cache\u001b[39m=\u001b[39mcompiled_cache,\n\u001b[0;32m   (...)\u001b[0m\n\u001b[1;32m   1570\u001b[0m     linting\u001b[39m=\u001b[39m\u001b[39mself\u001b[39m\u001b[39m.\u001b[39mdialect\u001b[39m.\u001b[39mcompiler_linting \u001b[39m|\u001b[39m compiler\u001b[39m.\u001b[39mWARN_LINTING,\n\u001b[1;32m   1571\u001b[0m )\n\u001b[0;32m-> 1572\u001b[0m ret \u001b[39m=\u001b[39m \u001b[39mself\u001b[39;49m\u001b[39m.\u001b[39;49m_execute_context(\n\u001b[1;32m   1573\u001b[0m     dialect,\n\u001b[1;32m   1574\u001b[0m     dialect\u001b[39m.\u001b[39;49mexecution_ctx_cls\u001b[39m.\u001b[39;49m_init_compiled,\n\u001b[1;32m   1575\u001b[0m     compiled_sql,\n\u001b[1;32m   1576\u001b[0m     distilled_params,\n\u001b[1;32m   1577\u001b[0m     execution_options,\n\u001b[1;32m   1578\u001b[0m     compiled_sql,\n\u001b[1;32m   1579\u001b[0m     distilled_params,\n\u001b[1;32m   1580\u001b[0m     elem,\n\u001b[1;32m   1581\u001b[0m     extracted_params,\n\u001b[1;32m   1582\u001b[0m     cache_hit\u001b[39m=\u001b[39;49mcache_hit,\n\u001b[1;32m   1583\u001b[0m )\n\u001b[1;32m   1584\u001b[0m \u001b[39mif\u001b[39;00m has_events:\n\u001b[1;32m   1585\u001b[0m     \u001b[39mself\u001b[39m\u001b[39m.\u001b[39mdispatch\u001b[39m.\u001b[39mafter_execute(\n\u001b[1;32m   1586\u001b[0m         \u001b[39mself\u001b[39m,\n\u001b[1;32m   1587\u001b[0m         elem,\n\u001b[0;32m   (...)\u001b[0m\n\u001b[1;32m   1591\u001b[0m         ret,\n\u001b[1;32m   1592\u001b[0m     )\n",
      "File \u001b[0;32m~/.local/lib/python3.10/site-packages/sqlalchemy/engine/base.py:1943\u001b[0m, in \u001b[0;36mConnection._execute_context\u001b[0;34m(self, dialect, constructor, statement, parameters, execution_options, *args, **kw)\u001b[0m\n\u001b[1;32m   1940\u001b[0m             branched\u001b[39m.\u001b[39mclose()\n\u001b[1;32m   1942\u001b[0m \u001b[39mexcept\u001b[39;00m \u001b[39mBaseException\u001b[39;00m \u001b[39mas\u001b[39;00m e:\n\u001b[0;32m-> 1943\u001b[0m     \u001b[39mself\u001b[39;49m\u001b[39m.\u001b[39;49m_handle_dbapi_exception(\n\u001b[1;32m   1944\u001b[0m         e, statement, parameters, cursor, context\n\u001b[1;32m   1945\u001b[0m     )\n\u001b[1;32m   1947\u001b[0m \u001b[39mreturn\u001b[39;00m result\n",
      "File \u001b[0;32m~/.local/lib/python3.10/site-packages/sqlalchemy/engine/base.py:2124\u001b[0m, in \u001b[0;36mConnection._handle_dbapi_exception\u001b[0;34m(self, e, statement, parameters, cursor, context)\u001b[0m\n\u001b[1;32m   2122\u001b[0m     util\u001b[39m.\u001b[39mraise_(newraise, with_traceback\u001b[39m=\u001b[39mexc_info[\u001b[39m2\u001b[39m], from_\u001b[39m=\u001b[39me)\n\u001b[1;32m   2123\u001b[0m \u001b[39melif\u001b[39;00m should_wrap:\n\u001b[0;32m-> 2124\u001b[0m     util\u001b[39m.\u001b[39;49mraise_(\n\u001b[1;32m   2125\u001b[0m         sqlalchemy_exception, with_traceback\u001b[39m=\u001b[39;49mexc_info[\u001b[39m2\u001b[39;49m], from_\u001b[39m=\u001b[39;49me\n\u001b[1;32m   2126\u001b[0m     )\n\u001b[1;32m   2127\u001b[0m \u001b[39melse\u001b[39;00m:\n\u001b[1;32m   2128\u001b[0m     util\u001b[39m.\u001b[39mraise_(exc_info[\u001b[39m1\u001b[39m], with_traceback\u001b[39m=\u001b[39mexc_info[\u001b[39m2\u001b[39m])\n",
      "File \u001b[0;32m~/.local/lib/python3.10/site-packages/sqlalchemy/util/compat.py:211\u001b[0m, in \u001b[0;36mraise_\u001b[0;34m(***failed resolving arguments***)\u001b[0m\n\u001b[1;32m    208\u001b[0m     exception\u001b[39m.\u001b[39m__cause__ \u001b[39m=\u001b[39m replace_context\n\u001b[1;32m    210\u001b[0m \u001b[39mtry\u001b[39;00m:\n\u001b[0;32m--> 211\u001b[0m     \u001b[39mraise\u001b[39;00m exception\n\u001b[1;32m    212\u001b[0m \u001b[39mfinally\u001b[39;00m:\n\u001b[1;32m    213\u001b[0m     \u001b[39m# credit to\u001b[39;00m\n\u001b[1;32m    214\u001b[0m     \u001b[39m# https://cosmicpercolator.com/2016/01/13/exception-leaks-in-python-2-and-3/\u001b[39;00m\n\u001b[1;32m    215\u001b[0m     \u001b[39m# as the __traceback__ object creates a cycle\u001b[39;00m\n\u001b[1;32m    216\u001b[0m     \u001b[39mdel\u001b[39;00m exception, replace_context, from_, with_traceback\n",
      "File \u001b[0;32m~/.local/lib/python3.10/site-packages/sqlalchemy/engine/base.py:1900\u001b[0m, in \u001b[0;36mConnection._execute_context\u001b[0;34m(self, dialect, constructor, statement, parameters, execution_options, *args, **kw)\u001b[0m\n\u001b[1;32m   1898\u001b[0m                 \u001b[39mbreak\u001b[39;00m\n\u001b[1;32m   1899\u001b[0m     \u001b[39mif\u001b[39;00m \u001b[39mnot\u001b[39;00m evt_handled:\n\u001b[0;32m-> 1900\u001b[0m         \u001b[39mself\u001b[39;49m\u001b[39m.\u001b[39;49mdialect\u001b[39m.\u001b[39;49mdo_execute(\n\u001b[1;32m   1901\u001b[0m             cursor, statement, parameters, context\n\u001b[1;32m   1902\u001b[0m         )\n\u001b[1;32m   1904\u001b[0m \u001b[39mif\u001b[39;00m \u001b[39mself\u001b[39m\u001b[39m.\u001b[39m_has_events \u001b[39mor\u001b[39;00m \u001b[39mself\u001b[39m\u001b[39m.\u001b[39mengine\u001b[39m.\u001b[39m_has_events:\n\u001b[1;32m   1905\u001b[0m     \u001b[39mself\u001b[39m\u001b[39m.\u001b[39mdispatch\u001b[39m.\u001b[39mafter_cursor_execute(\n\u001b[1;32m   1906\u001b[0m         \u001b[39mself\u001b[39m,\n\u001b[1;32m   1907\u001b[0m         cursor,\n\u001b[0;32m   (...)\u001b[0m\n\u001b[1;32m   1911\u001b[0m         context\u001b[39m.\u001b[39mexecutemany,\n\u001b[1;32m   1912\u001b[0m     )\n",
      "File \u001b[0;32m~/.local/lib/python3.10/site-packages/sqlalchemy/engine/default.py:736\u001b[0m, in \u001b[0;36mDefaultDialect.do_execute\u001b[0;34m(self, cursor, statement, parameters, context)\u001b[0m\n\u001b[1;32m    735\u001b[0m \u001b[39mdef\u001b[39;00m \u001b[39mdo_execute\u001b[39m(\u001b[39mself\u001b[39m, cursor, statement, parameters, context\u001b[39m=\u001b[39m\u001b[39mNone\u001b[39;00m):\n\u001b[0;32m--> 736\u001b[0m     cursor\u001b[39m.\u001b[39;49mexecute(statement, parameters)\n",
      "\u001b[0;31mOperationalError\u001b[0m: (sqlite3.OperationalError) table carro already exists\n[SQL: CREATE TABLE carro(\n    cd_carro INTEGER PRIMARY KEY AUTOINCREMENT,\n    nm_marca VARCHAR(50),\n    nr_placa VARCHAR(10),\n    nm_cor VARCHAR(10)\n    );]\n(Background on this error at: https://sqlalche.me/e/14/e3q8)"
     ]
    }
   ],
   "source": [
    "session.execute(\"\"\"CREATE TABLE carro(\n",
    "    cd_carro INTEGER PRIMARY KEY AUTOINCREMENT,\n",
    "    nm_marca VARCHAR(50),\n",
    "    nr_placa VARCHAR(10),\n",
    "    nm_cor VARCHAR(10)\n",
    "    );\"\"\")"
   ]
  },
  {
   "cell_type": "code",
   "execution_count": null,
   "metadata": {},
   "outputs": [],
   "source": [
    "session.execute(\"\"\"INSERT INTO carro (nm_marca, nr_placa, nm_cor) VALUES ('Fiat', 'ABC-1234', 'Prata')\"\"\")\n",
    "session.execute(\"\"\"INSERT INTO carro (nm_marca, nr_placa, nm_cor) VALUES ('Volvo', 'ABC-9876', 'Branco')\"\"\")\n",
    "session.commit()"
   ]
  },
  {
   "cell_type": "markdown",
   "metadata": {},
   "source": [
    "<p>Caso haja um erro, é possível retornar a sessão ao estado anterior, não propagando as modificações, utilizando o <span style=\"color:khaki;\">rollback</span>:</p>"
   ]
  },
  {
   "cell_type": "code",
   "execution_count": null,
   "metadata": {},
   "outputs": [],
   "source": [
    "retorno = session.execute(\"\"\"INSERT INTO carro (nm_marca, nr_placa, nm_cor) VALUES ('Ford', 'ABC-4567', 'Preto')\"\"\")\n",
    "session.rollback()"
   ]
  },
  {
   "cell_type": "markdown",
   "metadata": {},
   "source": [
    "Consulta:"
   ]
  },
  {
   "cell_type": "code",
   "execution_count": null,
   "metadata": {},
   "outputs": [],
   "source": [
    "results = session.execute(\"\"\"SELECT * FROM carro\"\"\")\n",
    "results"
   ]
  },
  {
   "cell_type": "code",
   "execution_count": null,
   "metadata": {},
   "outputs": [],
   "source": [
    "for result in results:\n",
    "    print(result)"
   ]
  },
  {
   "cell_type": "code",
   "execution_count": null,
   "metadata": {},
   "outputs": [],
   "source": [
    "class Carro:\n",
    "\n",
    "    def __init__(self, cd_carro, nm_marca, nr_placa, nm_cor) -> None:\n",
    "        self.cd_carro = cd_carro\n",
    "        self.nm_marca = nm_marca\n",
    "        self.nr_placa = nr_placa\n",
    "        self.nm_cor = nm_cor"
   ]
  },
  {
   "cell_type": "code",
   "execution_count": null,
   "metadata": {},
   "outputs": [],
   "source": [
    "results = session.execute(\"\"\"SELECT * FROM carro\"\"\")\n",
    "results"
   ]
  },
  {
   "cell_type": "code",
   "execution_count": null,
   "metadata": {},
   "outputs": [],
   "source": [
    "for result in results:\n",
    "    carro = Carro(result[0], result[1], result[2], result[3])\n",
    "    print(carro.__dict__)"
   ]
  },
  {
   "cell_type": "code",
   "execution_count": null,
   "metadata": {},
   "outputs": [],
   "source": [
    "results = session.execute(\"\"\"SELECT * FROM carro WHERE cd_carro = 1 LIMIT 1\"\"\")\n",
    "results.__next__()"
   ]
  },
  {
   "cell_type": "markdown",
   "metadata": {},
   "source": [
    "<p><b>Uma sessão deve sempre ser encerrada, utilizando o <span style=\"color:khaki;\">close</span>:</b></p>"
   ]
  },
  {
   "cell_type": "code",
   "execution_count": null,
   "metadata": {},
   "outputs": [],
   "source": [
    "session.close()"
   ]
  },
  {
   "cell_type": "code",
   "execution_count": null,
   "metadata": {},
   "outputs": [],
   "source": [
    "from sqlalchemy import create_engine\n",
    "from sqlalchemy.orm import sessionmaker"
   ]
  },
  {
   "cell_type": "code",
   "execution_count": null,
   "metadata": {},
   "outputs": [],
   "source": [
    "engine = create_engine(\"\"\"sqlite:///aula.db\"\"\")\n",
    "Session = sessionmaker(bind=engine)\n",
    "session = Session()"
   ]
  },
  {
   "cell_type": "code",
   "execution_count": null,
   "metadata": {},
   "outputs": [],
   "source": [
    "session.execute(\"\"\"CREATE TABLE cliente(\n",
    "    cd_cliente INTEGER PRIMARY KEY AUTOINCREMENT,\n",
    "    nm_cliente VARCHAR(50) NOT NULL,\n",
    "    nr_cpf VARCHAR(11) NOT NULL,\n",
    "    dsc_endereco VARCHAR(70),\n",
    "    renda NUMBER\n",
    "    )\"\"\")"
   ]
  },
  {
   "cell_type": "code",
   "execution_count": null,
   "metadata": {},
   "outputs": [],
   "source": [
    "session.execute(\"\"\"INSERT INTO cliente (nm_cliente, nr_cpf, dsc_endereco, renda)\n",
    "    VALUES ('Fulano', '10', 'Rua Bla 10', 1200)\"\"\")\n",
    "session.execute(\"\"\"INSERT INTO cliente (nm_cliente, nr_cpf, dsc_endereco, renda)\n",
    "    VALUES ('Beltrano', '11', 'Rua Ble 100', 1400)\"\"\")\n",
    "session.commit()\n",
    "session.close()"
   ]
  },
  {
   "cell_type": "code",
   "execution_count": null,
   "metadata": {},
   "outputs": [],
   "source": [
    "class Cliente:\n",
    "    \n",
    "    def __init__(self, nm_cliente, nr_cpf, dsc_endereco, renda, cd_cliente=None) -> None:\n",
    "        self.cd_cliente = cd_cliente\n",
    "        self.nm_cliente = nm_cliente\n",
    "        self.nr_cpf = nr_cpf\n",
    "        self.dsc_endereco = dsc_endereco\n",
    "        self.renda = renda"
   ]
  },
  {
   "cell_type": "code",
   "execution_count": null,
   "metadata": {},
   "outputs": [],
   "source": [
    "from sqlalchemy import create_engine\n",
    "from sqlalchemy.orm import sessionmaker\n",
    "from typing import List, Union\n",
    "\n",
    "class ClienteDAO:\n",
    "\n",
    "    def __init__(self) -> None:\n",
    "        DATABASE_NAME = \"aula.db\"\n",
    "        Session = sessionmaker(bind=create_engine(f\"sqlite:///{DATABASE_NAME}\"))\n",
    "        self.session = Session()\n",
    "    \n",
    "    def __del__(self) -> None:\n",
    "        self.session.close()\n",
    "\n",
    "    def save(self, cliente: Cliente) -> None:\n",
    "        self.session.execute(f\"\"\"INSERT INTO cliente (nm_cliente, nr_cpf, dsc_endereco, renda)\n",
    "        VALUES ('{cliente.nm_cliente}', '{cliente.nr_cpf}', '{cliente.dsc_endereco}', '{cliente.renda}')\"\"\")\n",
    "        self.session.commit()\n",
    "\n",
    "    def query(self, cd_cliente: int) -> Union[Cliente,None]:\n",
    "        results = self.session.execute(f\"\"\"SELECT nm_cliente, nr_cpf, dsc_endereco, renda, cd_cliente FROM cliente\n",
    "                                           WHERE cd_cliente = {cd_cliente} LIMIT 1\"\"\")\n",
    "        try:\n",
    "            result = results.__next__()\n",
    "            cliente = Cliente(result[0], result[1], result[2], result[3], result[4])\n",
    "            return cliente\n",
    "        except StopIteration:\n",
    "            return None\n",
    "\n",
    "    def query_all(self) -> List[Cliente]:\n",
    "        resultados = []\n",
    "        results = self.session.execute(f\"\"\"SELECT nm_cliente, nr_cpf, dsc_endereco, renda, cd_cliente FROM cliente\"\"\")\n",
    "        for result in results:\n",
    "            cliente = Cliente(result[0], result[1], result[2], result[3], result[4])\n",
    "            resultados.append(cliente)\n",
    "        return resultados\n"
   ]
  },
  {
   "cell_type": "code",
   "execution_count": null,
   "metadata": {},
   "outputs": [],
   "source": [
    "cliente = Cliente('Cicrano', '20', 'Rua Sei lá 201', 1500)\n",
    "dao = ClienteDAO()\n",
    "dao.save(cliente)"
   ]
  },
  {
   "cell_type": "code",
   "execution_count": null,
   "metadata": {},
   "outputs": [],
   "source": [
    "cliente = dao.query(1)\n",
    "cliente.__dict__"
   ]
  },
  {
   "cell_type": "code",
   "execution_count": null,
   "metadata": {},
   "outputs": [],
   "source": [
    "clientes = dao.query_all()\n",
    "for cliente in clientes:\n",
    "    print(cliente.__dict__)"
   ]
  },
  {
   "cell_type": "markdown",
   "metadata": {},
   "source": [
    "<h3 style=\"color:#6495ED;\">ORM:</h3>"
   ]
  },
  {
   "cell_type": "markdown",
   "metadata": {},
   "source": [
    "<p>Além de poder se executar comandos SQL o SQLAlchemy também possuí um pacote de ORM ( Object-relational mapping ) que permite mapear as tabelas do banco em classes e objetos. Para isso, utilizamos a função <span style=\"color:khaki\";>declarative_base</span> do pacote <span style=\"color:#3DCAB5;\">sqlalchemy.orm</span></p>"
   ]
  },
  {
   "cell_type": "code",
   "execution_count": null,
   "metadata": {},
   "outputs": [],
   "source": [
    "from sqlalchemy.orm import declarative_base\n",
    "\n",
    "Base = declarative_base()"
   ]
  },
  {
   "cell_type": "code",
   "execution_count": null,
   "metadata": {},
   "outputs": [],
   "source": [
    "from sqlalchemy import Column, Integer, String, Date\n",
    "\n",
    "class CarroTable(Base):\n",
    "    __tablename__ = \"carro\"\n",
    "\n",
    "    cd_carro = Column(\"cd_carro\", Integer, primary_key=True)\n",
    "    nm_marca = Column(\"nm_marca\", String(50))\n",
    "    nr_placa = Column(\"nr_placa\", String(10))\n",
    "    nm_cor = Column(\"nm_cor\", String(10))"
   ]
  },
  {
   "cell_type": "code",
   "execution_count": null,
   "metadata": {},
   "outputs": [],
   "source": [
    "carro = CarroTable()\n",
    "carro.nm_marca = \"Ford\"\n",
    "carro.nr_placa = \"ABE-2222\"\n",
    "carro.nm_cor = \"Azul\""
   ]
  },
  {
   "cell_type": "code",
   "execution_count": null,
   "metadata": {},
   "outputs": [],
   "source": [
    "from sqlalchemy import create_engine\n",
    "\n",
    "DATABASE_NAME = \"aula.db\"\n",
    "\n",
    "engine = create_engine(f\"sqlite:///{DATABASE_NAME}\")\n",
    "engine"
   ]
  },
  {
   "cell_type": "markdown",
   "metadata": {},
   "source": [
    "INSERT:"
   ]
  },
  {
   "cell_type": "code",
   "execution_count": null,
   "metadata": {},
   "outputs": [],
   "source": [
    "from sqlalchemy.orm import sessionmaker\n",
    "\n",
    "Session = sessionmaker(bind=engine)\n",
    "session = Session()\n",
    "session.add(carro)\n",
    "session.commit()\n",
    "session.close()"
   ]
  },
  {
   "cell_type": "markdown",
   "metadata": {},
   "source": [
    "SELECT:"
   ]
  },
  {
   "cell_type": "code",
   "execution_count": null,
   "metadata": {},
   "outputs": [],
   "source": [
    "Session = sessionmaker(bind=engine)\n",
    "session = Session()\n",
    "\n",
    "results = session.query(CarroTable).all()\n",
    "\n",
    "for result in results:\n",
    "    print(result.__dict__)\n",
    "\n",
    "session.close()"
   ]
  },
  {
   "cell_type": "markdown",
   "metadata": {},
   "source": [
    "SELECT BY ID:"
   ]
  },
  {
   "cell_type": "code",
   "execution_count": null,
   "metadata": {},
   "outputs": [],
   "source": [
    "Session = sessionmaker(bind=engine)\n",
    "session = Session()\n",
    "\n",
    "results = session.query(CarroTable).filter_by(cd_carro=1)\n",
    "\n",
    "for result in results:\n",
    "    print(result.__dict__)\n",
    "\n",
    "session.close()"
   ]
  },
  {
   "cell_type": "code",
   "execution_count": null,
   "metadata": {},
   "outputs": [],
   "source": [
    "Session = sessionmaker(bind=engine)\n",
    "session = Session()\n",
    "\n",
    "results = session.query(CarroTable).filter_by(nm_cor='Azul')\n",
    "\n",
    "for result in results:\n",
    "    print(result.__dict__)\n",
    "\n",
    "session.close()"
   ]
  },
  {
   "cell_type": "code",
   "execution_count": null,
   "metadata": {},
   "outputs": [],
   "source": [
    "Session = sessionmaker(bind=engine)\n",
    "session = Session()\n",
    "\n",
    "results = session.query(CarroTable).filter(CarroTable.nm_cor =='Azul')\n",
    "\n",
    "for result in results:\n",
    "    print(result.__dict__)\n",
    "\n",
    "session.close()"
   ]
  },
  {
   "cell_type": "code",
   "execution_count": null,
   "metadata": {},
   "outputs": [],
   "source": [
    "Session = sessionmaker(bind=engine)\n",
    "session = Session()\n",
    "\n",
    "results = session.query(CarroTable).filter(CarroTable.nm_cor != 'Azul')\n",
    "\n",
    "for result in results:\n",
    "    print(result.__dict__)\n",
    "\n",
    "session.close()"
   ]
  },
  {
   "cell_type": "markdown",
   "metadata": {},
   "source": [
    "<h3 style=\"color:crimson;\">Exercícios:</h3>"
   ]
  },
  {
   "cell_type": "markdown",
   "metadata": {},
   "source": [
    "<p>1) Crie uma estrutura de classes para a entidade Cliente.</p>\n",
    "<span>a) A entidade Cliente possui os atributos: nome, cpf, endereço e renda</span><br />\n",
    "<span>b) Utilizando SQLAlchemy, criar a estrtura de uma tabela cliente<span><br />\n",
    "<span>c) Inserir novos clientes no banco de dados<span><br />\n",
    "<span>d) Selecionar todos os clientes<span><br />\n",
    "<span>e) Selecionar um cliente específico pelo ID<span><br />\n",
    "<span>f) Selecionar clientes cuja renda seja maior que R$1200 e menor ou igual a R$1500<span><br />\n"
   ]
  },
  {
   "cell_type": "code",
   "execution_count": null,
   "metadata": {},
   "outputs": [],
   "source": [
    "from sqlalchemy.orm import declarative_base\n",
    "\n",
    "Base = declarative_base()"
   ]
  },
  {
   "cell_type": "code",
   "execution_count": null,
   "metadata": {},
   "outputs": [],
   "source": [
    "from sqlalchemy import Column, Integer, String, Float\n",
    "\n",
    "class Cliente(Base):\n",
    "    __tablename__ = \"cliente\"\n",
    "\n",
    "    cd_cliente = Column(\"cd_cliente\", Integer, primary_key=True)\n",
    "    nm_cliente = Column(\"nm_cliente\", String(50))\n",
    "    nr_cpf = Column(\"nr_cpf\", String(11))\n",
    "    dsc_endereco = Column(\"dsc_endereco\", String(70))\n",
    "    renda = Column(\"renda\", Float)"
   ]
  },
  {
   "cell_type": "code",
   "execution_count": null,
   "metadata": {},
   "outputs": [],
   "source": [
    "Session = sessionmaker(bind=engine)\n",
    "session = Session()"
   ]
  },
  {
   "cell_type": "code",
   "execution_count": null,
   "metadata": {},
   "outputs": [],
   "source": [
    "cliente = Cliente()\n",
    "cliente.nm_cliente = \"Batman\"\n",
    "cliente.nr_cpf = \"100\"\n",
    "cliente.dsc_endereco = \"BatCaverna\"\n",
    "cliente.renda = 1"
   ]
  },
  {
   "cell_type": "code",
   "execution_count": null,
   "metadata": {},
   "outputs": [],
   "source": [
    "session.add(cliente)\n",
    "session.commit()"
   ]
  },
  {
   "cell_type": "code",
   "execution_count": null,
   "metadata": {},
   "outputs": [],
   "source": [
    "results = session.query(Cliente).all()\n",
    "for result in results:\n",
    "    print(result.__dict__)"
   ]
  },
  {
   "cell_type": "code",
   "execution_count": null,
   "metadata": {},
   "outputs": [],
   "source": [
    "results = session.query(Cliente).filter_by(cd_cliente=4)\n",
    "for result in results:\n",
    "    print(result.__dict__)"
   ]
  },
  {
   "cell_type": "code",
   "execution_count": null,
   "metadata": {},
   "outputs": [],
   "source": [
    "results = session.query(Cliente).filter(Cliente.renda > 1200, Cliente.renda <= 1500)\n",
    "for result in results:\n",
    "    print(result.__dict__)"
   ]
  },
  {
   "cell_type": "code",
   "execution_count": null,
   "metadata": {},
   "outputs": [],
   "source": [
    "session.close()"
   ]
  },
  {
   "cell_type": "markdown",
   "metadata": {},
   "source": [
    "<h3 style=\"color:#6495ED;\">Dataclasses:</h3>"
   ]
  },
  {
   "cell_type": "code",
   "execution_count": null,
   "metadata": {},
   "outputs": [],
   "source": [
    "from dataclasses import dataclass"
   ]
  },
  {
   "cell_type": "code",
   "execution_count": null,
   "metadata": {},
   "outputs": [],
   "source": [
    "from typing import Optional\n",
    "\n",
    "@dataclass\n",
    "class Carro:\n",
    "    cd_carro: int\n",
    "    nm_marca: str\n",
    "    nr_placa: str\n",
    "    nm_cor: Optional[str] = None"
   ]
  },
  {
   "cell_type": "code",
   "execution_count": null,
   "metadata": {},
   "outputs": [],
   "source": [
    "carro = Carro(1, \"Citroen\", \"ABC-2020\", \"Vermelho\")"
   ]
  },
  {
   "cell_type": "code",
   "execution_count": null,
   "metadata": {},
   "outputs": [],
   "source": [
    "print(carro)"
   ]
  },
  {
   "cell_type": "markdown",
   "metadata": {},
   "source": [
    "<h3 style=\"color:#6495ED;\">Agrupando as duas estruturas:</h3>"
   ]
  },
  {
   "cell_type": "code",
   "execution_count": null,
   "metadata": {},
   "outputs": [],
   "source": [
    "from sqlalchemy.orm import declarative_base\n",
    "Base = declarative_base()"
   ]
  },
  {
   "cell_type": "code",
   "execution_count": null,
   "metadata": {},
   "outputs": [],
   "source": [
    "class CarroTable(Base):\n",
    "    __tablename__ = \"carro\"\n",
    "\n",
    "    cd_carro = Column(\"cd_carro\", Integer, primary_key=True)\n",
    "    nm_marca = Column(\"nm_marca\", String(50))\n",
    "    nr_placa = Column(\"nr_placa\", String(10))\n",
    "    nm_cor = Column(\"nm_cor\", String(10))"
   ]
  },
  {
   "cell_type": "code",
   "execution_count": null,
   "metadata": {},
   "outputs": [],
   "source": [
    "@dataclass\n",
    "class Carro(CarroTable):\n",
    "    cd_carro: int\n",
    "    nm_marca: str\n",
    "    nr_placa: str\n",
    "    nm_cor: Optional[str] = None"
   ]
  },
  {
   "cell_type": "code",
   "execution_count": null,
   "metadata": {},
   "outputs": [],
   "source": [
    "carro = Carro(4, \"Citroen\", nr_placa=\"ABC-2020\", nm_cor=\"Prata\")"
   ]
  },
  {
   "cell_type": "markdown",
   "metadata": {},
   "source": [
    "<h3>Links relevantes</h3><br />\n",
    "SQLite:<br />\n",
    "<a href=\"https://www.sqlite.org/index.html\">Documentação do SQLite</a><br />\n",
    "<a href=\"https://sqlitestudio.pl/\">Download do SQLite Studio</a><br />\n",
    "\n",
    "SQLAlchemy:<br />\n",
    "<a href=\"https://docs.sqlalchemy.org/en/14/\">Site do SQLAlchemy - Documentação da versão 1.4</a><br />\n",
    "<a href=\"https://www.treinaweb.com.br/blog/o-que-e-o-sqlalchemy\">O que é o SQLAlchemy?</a><br />\n",
    "\n",
    "Dataclasses:<br />\n",
    "<a href=\"https://pt.stackoverflow.com/questions/376306/o-que-s%C3%A3o-dataclasses-e-quando-utiliz%C3%A1-las\">Stack Overflow - Explicação geral sobre dataclasses</a><br />\n",
    "<a href=\"https://realpython.com/python-data-classes/\">Real Python - Explicação de dataclasses com alternativas (inglês)</a><br />\n",
    "<a href=\"[19:44] al-zanatta (Convidado)\n",
    "https://docs.python.org/3/library/dataclasses.html\">Docs Python - Documentação de Dataclasses (inglês)</a><br />\n",
    "\n",
    "<a href=\"https://docs.sqlalchemy.org/en/14/orm/dataclasses.html\">SQLAlchemy 1.4 + Dataclasses utilizando mapeamento imperativo</a><br />\n",
    "\n",
    "Design Patterns:<br />\n",
    "<a href=\"https://www.guj.com.br/t/o-que-e-dao-dto/64094/2\">Padrão DAO e DTO - Forum do Java</a>"
   ]
  }
 ],
 "metadata": {
  "kernelspec": {
   "display_name": "Python 3.7.9 64-bit (windows store)",
   "language": "python",
   "name": "python3"
  },
  "language_info": {
   "codemirror_mode": {
    "name": "ipython",
    "version": 3
   },
   "file_extension": ".py",
   "mimetype": "text/x-python",
   "name": "python",
   "nbconvert_exporter": "python",
   "pygments_lexer": "ipython3",
   "version": "3.10.6"
  },
  "orig_nbformat": 4,
  "vscode": {
   "interpreter": {
    "hash": "39a25611f9fccc4e358ed5a6ff84d955c0950a300bb89bf6122cf9ec76497b9e"
   }
  }
 },
 "nbformat": 4,
 "nbformat_minor": 2
}
